{
 "cells": [
  {
   "cell_type": "code",
   "execution_count": 346,
   "metadata": {},
   "outputs": [
    {
     "data": {
      "text/html": [
       "<div>\n",
       "<style scoped>\n",
       "    .dataframe tbody tr th:only-of-type {\n",
       "        vertical-align: middle;\n",
       "    }\n",
       "\n",
       "    .dataframe tbody tr th {\n",
       "        vertical-align: top;\n",
       "    }\n",
       "\n",
       "    .dataframe thead th {\n",
       "        text-align: right;\n",
       "    }\n",
       "</style>\n",
       "<table border=\"1\" class=\"dataframe\">\n",
       "  <thead>\n",
       "    <tr style=\"text-align: right;\">\n",
       "      <th></th>\n",
       "      <th>ID Detailed Occupation</th>\n",
       "      <th>Detailed Occupation</th>\n",
       "      <th>Average Wage</th>\n",
       "    </tr>\n",
       "  </thead>\n",
       "  <tbody>\n",
       "    <tr>\n",
       "      <th>0</th>\n",
       "      <td>111021</td>\n",
       "      <td>General &amp; operations managers</td>\n",
       "      <td>78932.012723</td>\n",
       "    </tr>\n",
       "    <tr>\n",
       "      <th>1</th>\n",
       "      <td>1110XX</td>\n",
       "      <td>Chief executives &amp; legislators</td>\n",
       "      <td>141283.836459</td>\n",
       "    </tr>\n",
       "    <tr>\n",
       "      <th>2</th>\n",
       "      <td>112011</td>\n",
       "      <td>Advertising &amp; promotions managers</td>\n",
       "      <td>68524.377437</td>\n",
       "    </tr>\n",
       "    <tr>\n",
       "      <th>3</th>\n",
       "      <td>112020</td>\n",
       "      <td>Marketing &amp; sales managers</td>\n",
       "      <td>88388.284736</td>\n",
       "    </tr>\n",
       "    <tr>\n",
       "      <th>4</th>\n",
       "      <td>112021</td>\n",
       "      <td>Marketing managers</td>\n",
       "      <td>84553.351153</td>\n",
       "    </tr>\n",
       "  </tbody>\n",
       "</table>\n",
       "</div>"
      ],
      "text/plain": [
       "  ID Detailed Occupation                Detailed Occupation   Average Wage\n",
       "0                 111021      General & operations managers   78932.012723\n",
       "1                 1110XX     Chief executives & legislators  141283.836459\n",
       "2                 112011  Advertising & promotions managers   68524.377437\n",
       "3                 112020         Marketing & sales managers   88388.284736\n",
       "4                 112021                 Marketing managers   84553.351153"
      ]
     },
     "execution_count": 346,
     "metadata": {},
     "output_type": "execute_result"
    }
   ],
   "source": [
    "import pandas as pd\n",
    "\n",
    "df_ND=pd.read_csv('occupations_avg_wage.csv')\n",
    "df_ND.head()"
   ]
  },
  {
   "cell_type": "code",
   "execution_count": 347,
   "metadata": {},
   "outputs": [
    {
     "data": {
      "text/html": [
       "<div>\n",
       "<style scoped>\n",
       "    .dataframe tbody tr th:only-of-type {\n",
       "        vertical-align: middle;\n",
       "    }\n",
       "\n",
       "    .dataframe tbody tr th {\n",
       "        vertical-align: top;\n",
       "    }\n",
       "\n",
       "    .dataframe thead th {\n",
       "        text-align: right;\n",
       "    }\n",
       "</style>\n",
       "<table border=\"1\" class=\"dataframe\">\n",
       "  <thead>\n",
       "    <tr style=\"text-align: right;\">\n",
       "      <th></th>\n",
       "      <th>puma_id</th>\n",
       "      <th>puma_name</th>\n",
       "      <th>occupation_id</th>\n",
       "      <th>occupation_name</th>\n",
       "      <th>total_population</th>\n",
       "      <th>average_wage</th>\n",
       "    </tr>\n",
       "  </thead>\n",
       "  <tbody>\n",
       "    <tr>\n",
       "      <th>0</th>\n",
       "      <td>79500US1205701</td>\n",
       "      <td>Tampa City (Central) PUMA, FL</td>\n",
       "      <td>111021</td>\n",
       "      <td>General &amp; operations managers</td>\n",
       "      <td>303</td>\n",
       "      <td>216321.300330</td>\n",
       "    </tr>\n",
       "    <tr>\n",
       "      <th>1</th>\n",
       "      <td>79500US1205701</td>\n",
       "      <td>Tampa City (Central) PUMA, FL</td>\n",
       "      <td>1110XX</td>\n",
       "      <td>Chief executives &amp; legislators</td>\n",
       "      <td>240</td>\n",
       "      <td>15787.429167</td>\n",
       "    </tr>\n",
       "    <tr>\n",
       "      <th>2</th>\n",
       "      <td>79500US1205701</td>\n",
       "      <td>Tampa City (Central) PUMA, FL</td>\n",
       "      <td>112021</td>\n",
       "      <td>Marketing managers</td>\n",
       "      <td>219</td>\n",
       "      <td>44594.771689</td>\n",
       "    </tr>\n",
       "    <tr>\n",
       "      <th>3</th>\n",
       "      <td>79500US1205701</td>\n",
       "      <td>Tampa City (Central) PUMA, FL</td>\n",
       "      <td>112022</td>\n",
       "      <td>Sales managers</td>\n",
       "      <td>427</td>\n",
       "      <td>77892.215457</td>\n",
       "    </tr>\n",
       "    <tr>\n",
       "      <th>4</th>\n",
       "      <td>79500US1205701</td>\n",
       "      <td>Tampa City (Central) PUMA, FL</td>\n",
       "      <td>113012</td>\n",
       "      <td>Administrative services managers</td>\n",
       "      <td>153</td>\n",
       "      <td>30392.915033</td>\n",
       "    </tr>\n",
       "  </tbody>\n",
       "</table>\n",
       "</div>"
      ],
      "text/plain": [
       "          puma_id                      puma_name occupation_id  \\\n",
       "0  79500US1205701  Tampa City (Central) PUMA, FL        111021   \n",
       "1  79500US1205701  Tampa City (Central) PUMA, FL        1110XX   \n",
       "2  79500US1205701  Tampa City (Central) PUMA, FL        112021   \n",
       "3  79500US1205701  Tampa City (Central) PUMA, FL        112022   \n",
       "4  79500US1205701  Tampa City (Central) PUMA, FL        113012   \n",
       "\n",
       "                    occupation_name  total_population   average_wage  \n",
       "0     General & operations managers               303  216321.300330  \n",
       "1    Chief executives & legislators               240   15787.429167  \n",
       "2                Marketing managers               219   44594.771689  \n",
       "3                    Sales managers               427   77892.215457  \n",
       "4  Administrative services managers               153   30392.915033  "
      ]
     },
     "execution_count": 347,
     "metadata": {},
     "output_type": "execute_result"
    }
   ],
   "source": [
    "df_LD=pd.read_csv('pumas_occupations_num_employees.csv')\n",
    "df_LD.head()"
   ]
  },
  {
   "cell_type": "code",
   "execution_count": 348,
   "metadata": {},
   "outputs": [
    {
     "name": "stdout",
     "output_type": "stream",
     "text": [
      "PUMA 529\n",
      "OCCUPATION 2378\n"
     ]
    }
   ],
   "source": [
    "valores_unicos_pumaname = df_LD['puma_name'].nunique()\n",
    "valores_unicos_occupation_name=df_LD['occupation_name'].nunique()\n",
    "\n",
    "print('PUMA',valores_unicos_occupation_name)\n",
    "print('OCCUPATION',valores_unicos_pumaname)"
   ]
  },
  {
   "cell_type": "code",
   "execution_count": 349,
   "metadata": {},
   "outputs": [],
   "source": [
    "merged_data = pd.merge(\n",
    "    df_LD,\n",
    "    df_ND,\n",
    "    left_on=\"occupation_id\",\n",
    "    right_on=\"ID Detailed Occupation\",\n",
    "    how=\"inner\"\n",
    ").rename(columns={'Average Wage': 'national_average_wage', 'average_wage': 'local_average_wage'})\n",
    "\n",
    "merged_data = merged_data.drop(columns=['ID Detailed Occupation'])\n",
    "merged_data =merged_data.drop(columns=['Detailed Occupation'])\n",
    "\n"
   ]
  },
  {
   "cell_type": "code",
   "execution_count": 350,
   "metadata": {},
   "outputs": [
    {
     "data": {
      "text/html": [
       "<div>\n",
       "<style scoped>\n",
       "    .dataframe tbody tr th:only-of-type {\n",
       "        vertical-align: middle;\n",
       "    }\n",
       "\n",
       "    .dataframe tbody tr th {\n",
       "        vertical-align: top;\n",
       "    }\n",
       "\n",
       "    .dataframe thead th {\n",
       "        text-align: right;\n",
       "    }\n",
       "</style>\n",
       "<table border=\"1\" class=\"dataframe\">\n",
       "  <thead>\n",
       "    <tr style=\"text-align: right;\">\n",
       "      <th></th>\n",
       "      <th>puma_id</th>\n",
       "      <th>puma_name</th>\n",
       "      <th>occupation_id</th>\n",
       "      <th>occupation_name</th>\n",
       "      <th>total_population</th>\n",
       "      <th>local_average_wage</th>\n",
       "      <th>national_average_wage</th>\n",
       "      <th>location_average_wage</th>\n",
       "    </tr>\n",
       "  </thead>\n",
       "  <tbody>\n",
       "    <tr>\n",
       "      <th>0</th>\n",
       "      <td>79500US1205701</td>\n",
       "      <td>Tampa City (Central) PUMA, FL</td>\n",
       "      <td>111021</td>\n",
       "      <td>General &amp; operations managers</td>\n",
       "      <td>303</td>\n",
       "      <td>216321.300330</td>\n",
       "      <td>78932.012723</td>\n",
       "      <td>37060.517655</td>\n",
       "    </tr>\n",
       "    <tr>\n",
       "      <th>1</th>\n",
       "      <td>79500US1205701</td>\n",
       "      <td>Tampa City (Central) PUMA, FL</td>\n",
       "      <td>1110XX</td>\n",
       "      <td>Chief executives &amp; legislators</td>\n",
       "      <td>240</td>\n",
       "      <td>15787.429167</td>\n",
       "      <td>141283.836459</td>\n",
       "      <td>37060.517655</td>\n",
       "    </tr>\n",
       "    <tr>\n",
       "      <th>2</th>\n",
       "      <td>79500US1205701</td>\n",
       "      <td>Tampa City (Central) PUMA, FL</td>\n",
       "      <td>112021</td>\n",
       "      <td>Marketing managers</td>\n",
       "      <td>219</td>\n",
       "      <td>44594.771689</td>\n",
       "      <td>84553.351153</td>\n",
       "      <td>37060.517655</td>\n",
       "    </tr>\n",
       "    <tr>\n",
       "      <th>3</th>\n",
       "      <td>79500US1205701</td>\n",
       "      <td>Tampa City (Central) PUMA, FL</td>\n",
       "      <td>112022</td>\n",
       "      <td>Sales managers</td>\n",
       "      <td>427</td>\n",
       "      <td>77892.215457</td>\n",
       "      <td>106611.873312</td>\n",
       "      <td>37060.517655</td>\n",
       "    </tr>\n",
       "    <tr>\n",
       "      <th>4</th>\n",
       "      <td>79500US1205701</td>\n",
       "      <td>Tampa City (Central) PUMA, FL</td>\n",
       "      <td>113012</td>\n",
       "      <td>Administrative services managers</td>\n",
       "      <td>153</td>\n",
       "      <td>30392.915033</td>\n",
       "      <td>65180.529338</td>\n",
       "      <td>37060.517655</td>\n",
       "    </tr>\n",
       "  </tbody>\n",
       "</table>\n",
       "</div>"
      ],
      "text/plain": [
       "          puma_id                      puma_name occupation_id  \\\n",
       "0  79500US1205701  Tampa City (Central) PUMA, FL        111021   \n",
       "1  79500US1205701  Tampa City (Central) PUMA, FL        1110XX   \n",
       "2  79500US1205701  Tampa City (Central) PUMA, FL        112021   \n",
       "3  79500US1205701  Tampa City (Central) PUMA, FL        112022   \n",
       "4  79500US1205701  Tampa City (Central) PUMA, FL        113012   \n",
       "\n",
       "                    occupation_name  total_population  local_average_wage  \\\n",
       "0     General & operations managers               303       216321.300330   \n",
       "1    Chief executives & legislators               240        15787.429167   \n",
       "2                Marketing managers               219        44594.771689   \n",
       "3                    Sales managers               427        77892.215457   \n",
       "4  Administrative services managers               153        30392.915033   \n",
       "\n",
       "   national_average_wage  location_average_wage  \n",
       "0           78932.012723           37060.517655  \n",
       "1          141283.836459           37060.517655  \n",
       "2           84553.351153           37060.517655  \n",
       "3          106611.873312           37060.517655  \n",
       "4           65180.529338           37060.517655  "
      ]
     },
     "execution_count": 350,
     "metadata": {},
     "output_type": "execute_result"
    }
   ],
   "source": [
    "location_avg_wage = merged_data.groupby('puma_id')['local_average_wage'].mean().reset_index(name='location_average_wage')\n",
    "\n",
    "df_LAW = merged_data.merge(location_avg_wage, on='puma_id')\n",
    "\n",
    "df_LAW.head()\n"
   ]
  },
  {
   "cell_type": "code",
   "execution_count": 351,
   "metadata": {},
   "outputs": [
    {
     "data": {
      "text/html": [
       "<div>\n",
       "<style scoped>\n",
       "    .dataframe tbody tr th:only-of-type {\n",
       "        vertical-align: middle;\n",
       "    }\n",
       "\n",
       "    .dataframe tbody tr th {\n",
       "        vertical-align: top;\n",
       "    }\n",
       "\n",
       "    .dataframe thead th {\n",
       "        text-align: right;\n",
       "    }\n",
       "</style>\n",
       "<table border=\"1\" class=\"dataframe\">\n",
       "  <thead>\n",
       "    <tr style=\"text-align: right;\">\n",
       "      <th></th>\n",
       "      <th>puma_id</th>\n",
       "      <th>puma_name</th>\n",
       "      <th>occupation_id</th>\n",
       "      <th>occupation_name</th>\n",
       "      <th>total_population</th>\n",
       "      <th>local_average_wage</th>\n",
       "      <th>national_average_wage</th>\n",
       "      <th>location_average_wage</th>\n",
       "    </tr>\n",
       "  </thead>\n",
       "  <tbody>\n",
       "    <tr>\n",
       "      <th>0</th>\n",
       "      <td>79500US0607504</td>\n",
       "      <td>Inner Mission &amp; Castro PUMA, CA</td>\n",
       "      <td>291240</td>\n",
       "      <td>Surgeons</td>\n",
       "      <td>217</td>\n",
       "      <td>572399.815668</td>\n",
       "      <td>282720.324022</td>\n",
       "      <td>96420.973134</td>\n",
       "    </tr>\n",
       "    <tr>\n",
       "      <th>1</th>\n",
       "      <td>79500US3603810</td>\n",
       "      <td>Battery Park City, Greenwich Village &amp; Soho PU...</td>\n",
       "      <td>291020</td>\n",
       "      <td>Dentists</td>\n",
       "      <td>220</td>\n",
       "      <td>668644.000000</td>\n",
       "      <td>127707.800538</td>\n",
       "      <td>94839.246750</td>\n",
       "    </tr>\n",
       "    <tr>\n",
       "      <th>2</th>\n",
       "      <td>79500US3603807</td>\n",
       "      <td>Chelsea, Clinton &amp; Midtown Business District P...</td>\n",
       "      <td>1320XX</td>\n",
       "      <td>Other financial specialists</td>\n",
       "      <td>151</td>\n",
       "      <td>668644.026490</td>\n",
       "      <td>98080.728621</td>\n",
       "      <td>91590.648998</td>\n",
       "    </tr>\n",
       "    <tr>\n",
       "      <th>3</th>\n",
       "      <td>79500US0608507</td>\n",
       "      <td>Cupertino, Saratoga Cities &amp; Los Gatos Town PU...</td>\n",
       "      <td>113051</td>\n",
       "      <td>Industrial production managers</td>\n",
       "      <td>122</td>\n",
       "      <td>572399.803279</td>\n",
       "      <td>77305.982431</td>\n",
       "      <td>85380.084584</td>\n",
       "    </tr>\n",
       "    <tr>\n",
       "      <th>4</th>\n",
       "      <td>79500US3401403</td>\n",
       "      <td>Essex County (Northwest) PUMA, NJ</td>\n",
       "      <td>413021</td>\n",
       "      <td>Insurance sales agents</td>\n",
       "      <td>31</td>\n",
       "      <td>645342.838710</td>\n",
       "      <td>53854.686494</td>\n",
       "      <td>84129.644104</td>\n",
       "    </tr>\n",
       "  </tbody>\n",
       "</table>\n",
       "</div>"
      ],
      "text/plain": [
       "          puma_id                                          puma_name  \\\n",
       "0  79500US0607504                    Inner Mission & Castro PUMA, CA   \n",
       "1  79500US3603810  Battery Park City, Greenwich Village & Soho PU...   \n",
       "2  79500US3603807  Chelsea, Clinton & Midtown Business District P...   \n",
       "3  79500US0608507  Cupertino, Saratoga Cities & Los Gatos Town PU...   \n",
       "4  79500US3401403                  Essex County (Northwest) PUMA, NJ   \n",
       "\n",
       "  occupation_id                 occupation_name  total_population  \\\n",
       "0        291240                        Surgeons               217   \n",
       "1        291020                        Dentists               220   \n",
       "2        1320XX     Other financial specialists               151   \n",
       "3        113051  Industrial production managers               122   \n",
       "4        413021          Insurance sales agents                31   \n",
       "\n",
       "   local_average_wage  national_average_wage  location_average_wage  \n",
       "0       572399.815668          282720.324022           96420.973134  \n",
       "1       668644.000000          127707.800538           94839.246750  \n",
       "2       668644.026490           98080.728621           91590.648998  \n",
       "3       572399.803279           77305.982431           85380.084584  \n",
       "4       645342.838710           53854.686494           84129.644104  "
      ]
     },
     "execution_count": 351,
     "metadata": {},
     "output_type": "execute_result"
    }
   ],
   "source": [
    "highest_paid_per_puma = df_LAW.loc[df_LAW.groupby('puma_id')['local_average_wage'].idxmax()]\n",
    "\n",
    "highest_paid_per_puma_sorted = highest_paid_per_puma.sort_values(by='location_average_wage', ascending=False).reset_index(drop=True)\n",
    "highest_paid_per_puma_sorted.head().reset_index()\n",
    "highest_paid_per_puma_sorted.to_excel('highest_paid_per_puma.xlsx', index=False)\n",
    "highest_paid_per_puma_sorted.head()\n"
   ]
  },
  {
   "cell_type": "code",
   "execution_count": 352,
   "metadata": {},
   "outputs": [
    {
     "data": {
      "image/png": "[encoded data removed]",
      "text/plain": [
       "<Figure size 720x432 with 1 Axes>"
      ]
     },
     "metadata": {
      "needs_background": "light"
     },
     "output_type": "display_data"
    }
   ],
   "source": [
    "import matplotlib.pyplot as plt\n",
    "import seaborn as sns\n",
    "\n",
    "df = highest_paid_per_puma_sorted\n",
    "\n",
    "# Contar las 5 ocupaciones más comunes en las locaciones\n",
    "top_5_occupations_counts = df['occupation_name'].value_counts().nlargest(5)\n",
    "top_5_occupations = top_5_occupations_counts.index\n",
    "\n",
    "# Filtrar el DataFrame para conservar solo las 5 ocupaciones más comunes\n",
    "top_5_df = df[df['occupation_name'].isin(top_5_occupations)]\n",
    "\n",
    "# Calcular el salario promedio nacional para las 5 ocupaciones más comunes y ordenar de menor a mayor\n",
    "national_average_wage_mean = top_5_df.groupby('occupation_name')['national_average_wage'].mean()\n",
    "national_average_wage_mean = national_average_wage_mean.sort_values(ascending=True)\n",
    "top_5_occupations_sorted = national_average_wage_mean.index\n",
    "\n",
    "top_5_occupations_counts = top_5_occupations_counts.reindex(top_5_occupations_sorted)\n",
    "\n",
    "fig, ax1 = plt.subplots(figsize=(10, 6))\n",
    "colors = sns.color_palette(\"YlGn\", as_cmap=True)  # Cambia \"YlGn\" por cualquier nombre de paleta\n",
    "\n",
    "sns.barplot(x=top_5_occupations_sorted, y=national_average_wage_mean.values, ax=ax1, palette=colors(national_average_wage_mean.rank(pct=True)))\n",
    "ax1.set_ylabel('National average wage')\n",
    "ax1.set_xlabel('Occupation')\n",
    "ax1.set_title('Most Common and Highest Paid Occupations by PUMA in the USA')\n",
    "\n",
    "# Añadir etiquetas de cantidad de repeticiones sobre cada barra\n",
    "for i, count in enumerate(top_5_occupations_counts.values):\n",
    "    ax1.text(i, national_average_wage_mean.values[i] + 0.5, f'{count}', ha='center', va='bottom')\n",
    "\n",
    "# Mostrar el gráfico\n",
    "plt.xticks(rotation=0)\n",
    "plt.tight_layout()\n",
    "plt.show()\n"
   ]
  },
  {
   "cell_type": "markdown",
   "metadata": {},
   "source": [
    "National Average Wage: This axis represents the national average wage of the five most common occupations across various PUMAs (Public Use Microdata Areas). \n",
    "Occupation: The horizontal axis displays the five most common occupations across different PUMAs. \n",
    "Frequency of Each Occupation: The numbers above each bar show how often each occupation appears across various locations (PUMAs).\n",
    "\n",
    "This chart enables analysis of the highest-paid occupations in the most representative occupations by PUMAs across the country.\n"
   ]
  },
  {
   "cell_type": "code",
   "execution_count": 353,
   "metadata": {},
   "outputs": [
    {
     "data": {
      "application/vnd.plotly.v1+json": {
       "config": {
        "plotlyServerURL": "https://plot.ly"
       },
       "data": [
        {
         "branchvalues": "total",
         "customdata": [
          [
           1.2135651473319373,
           61054.30074293607
          ],
          [
           0.7819741781526562,
           31971.51194798632
          ],
          [
           0.7703627469032377,
           27459.558406179458
          ],
          [
           2.5278457961465293,
           11345.295000065567
          ],
          [
           0.9575712046621211,
           9308.284771445085
          ],
          [
           1.333849293717933,
           24876.47582854767
          ],
          [
           1.6225169997892892,
           15233.026240397257
          ],
          [
           2.009066640309504,
           28131.395095576878
          ],
          [
           2.3193757791180305,
           33939.146353971664
          ],
          [
           2.387380355664276,
           41665.402501537
          ],
          [
           0.8099950077090831,
           49937.56527632258
          ],
          [
           1.8907701199065954,
           42689.428680193356
          ],
          [
           1.8423037364503947,
           20254.626421395245
          ],
          [
           1.6637224322379411,
           21417.511558711816
          ],
          [
           0.882697937754171,
           15350.66481084252
          ],
          [
           1.056709405442539,
           12199.624934694639
          ],
          [
           0.8580588078708647,
           32323.634074208378
          ],
          [
           0.9036090431046707,
           23074.86238543885
          ],
          [
           0.9897789004805063,
           25420.64225442425
          ],
          [
           2.428011848852167,
           73226.8867053976
          ],
          [
           0.9586839861784897,
           17057.12116891115
          ],
          [
           0.8936002030464975,
           51099.92933457331
          ],
          [
           0.8221535393329685,
           19250.33645501892
          ],
          [
           1.9773250120742731,
           57191.30314244424
          ],
          [
           2.3026009590514724,
           23202.024970705585
          ],
          [
           0.8072899576500439,
           64772.82287926463
          ],
          [
           1.7658454268537764,
           27574.295779364642
          ],
          [
           1.1699963444920736,
           18398.921736103905
          ],
          [
           0.843333549678843,
           17295.407398413314
          ],
          [
           1.5294149677630136,
           14072.444310243043
          ]
         ],
         "domain": {
          "x": [
           0,
           1
          ],
          "y": [
           0,
           1
          ]
         },
         "hovertemplate": "labels=%{label}<br>total_population=%{value}<br>parent=%{parent}<br>id=%{id}<br>population_percentage=%{color:.2f}<br>average_wage=%{customdata[1]:.2f}<extra></extra>",
         "ids": [
          "Accountants<br>&<br>auditors",
          "Bookkeeping,<br>accounting,<br>&<br>auditing<br>clerks",
          "Carpenters",
          "Cashiers",
          "Childcare<br>workers",
          "Construction<br>laborers",
          "Cooks",
          "Customer<br>service<br>representatives",
          "Driver/sales<br>workers<br>&<br>truck<br>drivers",
          "Elementary<br>&<br>middle<br>school<br>teachers",
          "Firstline<br>supervisors<br>of<br>office<br>&<br>administrative<br>support<br>workers",
          "Firstline<br>supervisors<br>of<br>retail<br>sales<br>workers",
          "Janitors<br>&<br>building<br>cleaners",
          "Laborers<br>&<br>freight,<br>stock,<br>&<br>material<br>movers,<br>hand",
          "Landscaping<br>and<br>groundskeeping<br>workers",
          "Maids<br>&<br>housekeeping<br>cleaners",
          "Miscellaneous<br>production<br>workers,<br>including<br>semiconductor<br>processors",
          "Nursing<br>assistants",
          "Office<br>clerks,<br>general",
          "Other managers",
          "Personal<br>care<br>aides",
          "Postsecondary<br>teachers",
          "Receptionists<br>&<br>information<br>clerks",
          "Registered<br>nurses",
          "Retail<br>salespersons",
          "Sales<br>representatives,<br>wholesale<br>&<br>manufacturing",
          "Secretaries<br>and<br>administrative<br>assistants,<br>except<br>legal,<br>medical,<br>and<br>executive",
          "Stockers<br>and<br>order<br>fillers",
          "Teaching<br>assistants",
          "Waiters<br>&<br>waitresses"
         ],
         "labels": [
          "Accountants<br>&<br>auditors",
          "Bookkeeping,<br>accounting,<br>&<br>auditing<br>clerks",
          "Carpenters",
          "Cashiers",
          "Childcare<br>workers",
          "Construction<br>laborers",
          "Cooks",
          "Customer<br>service<br>representatives",
          "Driver/sales<br>workers<br>&<br>truck<br>drivers",
          "Elementary<br>&<br>middle<br>school<br>teachers",
          "Firstline<br>supervisors<br>of<br>office<br>&<br>administrative<br>support<br>workers",
          "Firstline<br>supervisors<br>of<br>retail<br>sales<br>workers",
          "Janitors<br>&<br>building<br>cleaners",
          "Laborers<br>&<br>freight,<br>stock,<br>&<br>material<br>movers,<br>hand",
          "Landscaping<br>and<br>groundskeeping<br>workers",
          "Maids<br>&<br>housekeeping<br>cleaners",
          "Miscellaneous<br>production<br>workers,<br>including<br>semiconductor<br>processors",
          "Nursing<br>assistants",
          "Office<br>clerks,<br>general",
          "Other managers",
          "Personal<br>care<br>aides",
          "Postsecondary<br>teachers",
          "Receptionists<br>&<br>information<br>clerks",
          "Registered<br>nurses",
          "Retail<br>salespersons",
          "Sales<br>representatives,<br>wholesale<br>&<br>manufacturing",
          "Secretaries<br>and<br>administrative<br>assistants,<br>except<br>legal,<br>medical,<br>and<br>executive",
          "Stockers<br>and<br>order<br>fillers",
          "Teaching<br>assistants",
          "Waiters<br>&<br>waitresses"
         ],
         "marker": {
          "coloraxis": "coloraxis",
          "colors": [
           1.2135651473319373,
           0.7819741781526562,
           0.7703627469032377,
           2.5278457961465293,
           0.9575712046621211,
           1.333849293717933,
           1.6225169997892892,
           2.009066640309504,
           2.3193757791180305,
           2.387380355664276,
           0.8099950077090831,
           1.8907701199065954,
           1.8423037364503947,
           1.6637224322379411,
           0.882697937754171,
           1.056709405442539,
           0.8580588078708647,
           0.9036090431046707,
           0.9897789004805063,
           2.428011848852167,
           0.9586839861784897,
           0.8936002030464975,
           0.8221535393329685,
           1.9773250120742731,
           2.3026009590514724,
           0.8072899576500439,
           1.7658454268537764,
           1.1699963444920736,
           0.843333549678843,
           1.5294149677630136
          ]
         },
         "name": "",
         "parents": [
          "",
          "",
          "",
          "",
          "",
          "",
          "",
          "",
          "",
          "",
          "",
          "",
          "",
          "",
          "",
          "",
          "",
          "",
          "",
          "",
          "",
          "",
          "",
          "",
          "",
          "",
          "",
          "",
          "",
          ""
         ],
         "textfont": {
          "size": 12
         },
         "texttemplate": "%{label}<br>%{value:,.0f} (%{customdata[0]:.2f}%)<br>Avg Wage: $%{customdata[1]:,.2f}",
         "type": "treemap",
         "values": [
          2351267,
          1515065,
          1492568,
          4897669,
          1855282,
          2584316,
          3143606,
          3892541,
          4493761,
          4625519,
          1569355,
          3663343,
          3569440,
          3223441,
          1710216,
          2047361,
          1662478,
          1750731,
          1917684,
          4704242,
          1857438,
          1731339,
          1592912,
          3831042,
          4461260,
          1564114,
          3421303,
          2266853,
          1633948,
          2963222
         ]
        }
       ],
       "layout": {
        "coloraxis": {
         "colorbar": {
          "tickformat": ".2f",
          "title": {
           "text": "Population %"
          }
         },
         "colorscale": [
          [
           0,
           "#fcffa4"
          ],
          [
           0.1111111111111111,
           "#f7d13d"
          ],
          [
           0.2222222222222222,
           "#fb9b06"
          ],
          [
           0.3333333333333333,
           "#ed6925"
          ],
          [
           0.4444444444444444,
           "#cf4446"
          ],
          [
           0.5555555555555556,
           "#a52c60"
          ],
          [
           0.6666666666666666,
           "#781c6d"
          ],
          [
           0.7777777777777778,
           "#4a0c6b"
          ],
          [
           0.8888888888888888,
           "#1b0c41"
          ],
          [
           1,
           "#000004"
          ]
         ]
        },
        "font": {
         "size": 20
        },
        "height": 700,
        "legend": {
         "tracegroupgap": 0
        },
        "margin": {
         "b": 25,
         "l": 25,
         "r": 25,
         "t": 45
        },
        "template": {
         "data": {
          "bar": [
           {
            "error_x": {
             "color": "#2a3f5f"
            },
            "error_y": {
             "color": "#2a3f5f"
            },
            "marker": {
             "line": {
              "color": "#E5ECF6",
              "width": 0.5
             },
             "pattern": {
              "fillmode": "overlay",
              "size": 10,
              "solidity": 0.2
             }
            },
            "type": "bar"
           }
          ],
          "barpolar": [
           {
            "marker": {
             "line": {
              "color": "#E5ECF6",
              "width": 0.5
             },
             "pattern": {
              "fillmode": "overlay",
              "size": 10,
              "solidity": 0.2
             }
            },
            "type": "barpolar"
           }
          ],
          "carpet": [
           {
            "aaxis": {
             "endlinecolor": "#2a3f5f",
             "gridcolor": "white",
             "linecolor": "white",
             "minorgridcolor": "white",
             "startlinecolor": "#2a3f5f"
            },
            "baxis": {
             "endlinecolor": "#2a3f5f",
             "gridcolor": "white",
             "linecolor": "white",
             "minorgridcolor": "white",
             "startlinecolor": "#2a3f5f"
            },
            "type": "carpet"
           }
          ],
          "choropleth": [
           {
            "colorbar": {
             "outlinewidth": 0,
             "ticks": ""
            },
            "type": "choropleth"
           }
          ],
          "contour": [
           {
            "colorbar": {
             "outlinewidth": 0,
             "ticks": ""
            },
            "colorscale": [
             [
              0,
              "#0d0887"
             ],
             [
              0.1111111111111111,
              "#46039f"
             ],
             [
              0.2222222222222222,
              "#7201a8"
             ],
             [
              0.3333333333333333,
              "#9c179e"
             ],
             [
              0.4444444444444444,
              "#bd3786"
             ],
             [
              0.5555555555555556,
              "#d8576b"
             ],
             [
              0.6666666666666666,
              "#ed7953"
             ],
             [
              0.7777777777777778,
              "#fb9f3a"
             ],
             [
              0.8888888888888888,
              "#fdca26"
             ],
             [
              1,
              "#f0f921"
             ]
            ],
            "type": "contour"
           }
          ],
          "contourcarpet": [
           {
            "colorbar": {
             "outlinewidth": 0,
             "ticks": ""
            },
            "type": "contourcarpet"
           }
          ],
          "heatmap": [
           {
            "colorbar": {
             "outlinewidth": 0,
             "ticks": ""
            },
            "colorscale": [
             [
              0,
              "#0d0887"
             ],
             [
              0.1111111111111111,
              "#46039f"
             ],
             [
              0.2222222222222222,
              "#7201a8"
             ],
             [
              0.3333333333333333,
              "#9c179e"
             ],
             [
              0.4444444444444444,
              "#bd3786"
             ],
             [
              0.5555555555555556,
              "#d8576b"
             ],
             [
              0.6666666666666666,
              "#ed7953"
             ],
             [
              0.7777777777777778,
              "#fb9f3a"
             ],
             [
              0.8888888888888888,
              "#fdca26"
             ],
             [
              1,
              "#f0f921"
             ]
            ],
            "type": "heatmap"
           }
          ],
          "heatmapgl": [
           {
            "colorbar": {
             "outlinewidth": 0,
             "ticks": ""
            },
            "colorscale": [
             [
              0,
              "#0d0887"
             ],
             [
              0.1111111111111111,
              "#46039f"
             ],
             [
              0.2222222222222222,
              "#7201a8"
             ],
             [
              0.3333333333333333,
              "#9c179e"
             ],
             [
              0.4444444444444444,
              "#bd3786"
             ],
             [
              0.5555555555555556,
              "#d8576b"
             ],
             [
              0.6666666666666666,
              "#ed7953"
             ],
             [
              0.7777777777777778,
              "#fb9f3a"
             ],
             [
              0.8888888888888888,
              "#fdca26"
             ],
             [
              1,
              "#f0f921"
             ]
            ],
            "type": "heatmapgl"
           }
          ],
          "histogram": [
           {
            "marker": {
             "pattern": {
              "fillmode": "overlay",
              "size": 10,
              "solidity": 0.2
             }
            },
            "type": "histogram"
           }
          ],
          "histogram2d": [
           {
            "colorbar": {
             "outlinewidth": 0,
             "ticks": ""
            },
            "colorscale": [
             [
              0,
              "#0d0887"
             ],
             [
              0.1111111111111111,
              "#46039f"
             ],
             [
              0.2222222222222222,
              "#7201a8"
             ],
             [
              0.3333333333333333,
              "#9c179e"
             ],
             [
              0.4444444444444444,
              "#bd3786"
             ],
             [
              0.5555555555555556,
              "#d8576b"
             ],
             [
              0.6666666666666666,
              "#ed7953"
             ],
             [
              0.7777777777777778,
              "#fb9f3a"
             ],
             [
              0.8888888888888888,
              "#fdca26"
             ],
             [
              1,
              "#f0f921"
             ]
            ],
            "type": "histogram2d"
           }
          ],
          "histogram2dcontour": [
           {
            "colorbar": {
             "outlinewidth": 0,
             "ticks": ""
            },
            "colorscale": [
             [
              0,
              "#0d0887"
             ],
             [
              0.1111111111111111,
              "#46039f"
             ],
             [
              0.2222222222222222,
              "#7201a8"
             ],
             [
              0.3333333333333333,
              "#9c179e"
             ],
             [
              0.4444444444444444,
              "#bd3786"
             ],
             [
              0.5555555555555556,
              "#d8576b"
             ],
             [
              0.6666666666666666,
              "#ed7953"
             ],
             [
              0.7777777777777778,
              "#fb9f3a"
             ],
             [
              0.8888888888888888,
              "#fdca26"
             ],
             [
              1,
              "#f0f921"
             ]
            ],
            "type": "histogram2dcontour"
           }
          ],
          "mesh3d": [
           {
            "colorbar": {
             "outlinewidth": 0,
             "ticks": ""
            },
            "type": "mesh3d"
           }
          ],
          "parcoords": [
           {
            "line": {
             "colorbar": {
              "outlinewidth": 0,
              "ticks": ""
             }
            },
            "type": "parcoords"
           }
          ],
          "pie": [
           {
            "automargin": true,
            "type": "pie"
           }
          ],
          "scatter": [
           {
            "fillpattern": {
             "fillmode": "overlay",
             "size": 10,
             "solidity": 0.2
            },
            "type": "scatter"
           }
          ],
          "scatter3d": [
           {
            "line": {
             "colorbar": {
              "outlinewidth": 0,
              "ticks": ""
             }
            },
            "marker": {
             "colorbar": {
              "outlinewidth": 0,
              "ticks": ""
             }
            },
            "type": "scatter3d"
           }
          ],
          "scattercarpet": [
           {
            "marker": {
             "colorbar": {
              "outlinewidth": 0,
              "ticks": ""
             }
            },
            "type": "scattercarpet"
           }
          ],
          "scattergeo": [
           {
            "marker": {
             "colorbar": {
              "outlinewidth": 0,
              "ticks": ""
             }
            },
            "type": "scattergeo"
           }
          ],
          "scattergl": [
           {
            "marker": {
             "colorbar": {
              "outlinewidth": 0,
              "ticks": ""
             }
            },
            "type": "scattergl"
           }
          ],
          "scattermapbox": [
           {
            "marker": {
             "colorbar": {
              "outlinewidth": 0,
              "ticks": ""
             }
            },
            "type": "scattermapbox"
           }
          ],
          "scatterpolar": [
           {
            "marker": {
             "colorbar": {
              "outlinewidth": 0,
              "ticks": ""
             }
            },
            "type": "scatterpolar"
           }
          ],
          "scatterpolargl": [
           {
            "marker": {
             "colorbar": {
              "outlinewidth": 0,
              "ticks": ""
             }
            },
            "type": "scatterpolargl"
           }
          ],
          "scatterternary": [
           {
            "marker": {
             "colorbar": {
              "outlinewidth": 0,
              "ticks": ""
             }
            },
            "type": "scatterternary"
           }
          ],
          "surface": [
           {
            "colorbar": {
             "outlinewidth": 0,
             "ticks": ""
            },
            "colorscale": [
             [
              0,
              "#0d0887"
             ],
             [
              0.1111111111111111,
              "#46039f"
             ],
             [
              0.2222222222222222,
              "#7201a8"
             ],
             [
              0.3333333333333333,
              "#9c179e"
             ],
             [
              0.4444444444444444,
              "#bd3786"
             ],
             [
              0.5555555555555556,
              "#d8576b"
             ],
             [
              0.6666666666666666,
              "#ed7953"
             ],
             [
              0.7777777777777778,
              "#fb9f3a"
             ],
             [
              0.8888888888888888,
              "#fdca26"
             ],
             [
              1,
              "#f0f921"
             ]
            ],
            "type": "surface"
           }
          ],
          "table": [
           {
            "cells": {
             "fill": {
              "color": "#EBF0F8"
             },
             "line": {
              "color": "white"
             }
            },
            "header": {
             "fill": {
              "color": "#C8D4E3"
             },
             "line": {
              "color": "white"
             }
            },
            "type": "table"
           }
          ]
         },
         "layout": {
          "annotationdefaults": {
           "arrowcolor": "#2a3f5f",
           "arrowhead": 0,
           "arrowwidth": 1
          },
          "autotypenumbers": "strict",
          "coloraxis": {
           "colorbar": {
            "outlinewidth": 0,
            "ticks": ""
           }
          },
          "colorscale": {
           "diverging": [
            [
             0,
             "#8e0152"
            ],
            [
             0.1,
             "#c51b7d"
            ],
            [
             0.2,
             "#de77ae"
            ],
            [
             0.3,
             "#f1b6da"
            ],
            [
             0.4,
             "#fde0ef"
            ],
            [
             0.5,
             "#f7f7f7"
            ],
            [
             0.6,
             "#e6f5d0"
            ],
            [
             0.7,
             "#b8e186"
            ],
            [
             0.8,
             "#7fbc41"
            ],
            [
             0.9,
             "#4d9221"
            ],
            [
             1,
             "#276419"
            ]
           ],
           "sequential": [
            [
             0,
             "#0d0887"
            ],
            [
             0.1111111111111111,
             "#46039f"
            ],
            [
             0.2222222222222222,
             "#7201a8"
            ],
            [
             0.3333333333333333,
             "#9c179e"
            ],
            [
             0.4444444444444444,
             "#bd3786"
            ],
            [
             0.5555555555555556,
             "#d8576b"
            ],
            [
             0.6666666666666666,
             "#ed7953"
            ],
            [
             0.7777777777777778,
             "#fb9f3a"
            ],
            [
             0.8888888888888888,
             "#fdca26"
            ],
            [
             1,
             "#f0f921"
            ]
           ],
           "sequentialminus": [
            [
             0,
             "#0d0887"
            ],
            [
             0.1111111111111111,
             "#46039f"
            ],
            [
             0.2222222222222222,
             "#7201a8"
            ],
            [
             0.3333333333333333,
             "#9c179e"
            ],
            [
             0.4444444444444444,
             "#bd3786"
            ],
            [
             0.5555555555555556,
             "#d8576b"
            ],
            [
             0.6666666666666666,
             "#ed7953"
            ],
            [
             0.7777777777777778,
             "#fb9f3a"
            ],
            [
             0.8888888888888888,
             "#fdca26"
            ],
            [
             1,
             "#f0f921"
            ]
           ]
          },
          "colorway": [
           "#636efa",
           "#EF553B",
           "#00cc96",
           "#ab63fa",
           "#FFA15A",
           "#19d3f3",
           "#FF6692",
           "#B6E880",
           "#FF97FF",
           "#FECB52"
          ],
          "font": {
           "color": "#2a3f5f"
          },
          "geo": {
           "bgcolor": "white",
           "lakecolor": "white",
           "landcolor": "#E5ECF6",
           "showlakes": true,
           "showland": true,
           "subunitcolor": "white"
          },
          "hoverlabel": {
           "align": "left"
          },
          "hovermode": "closest",
          "mapbox": {
           "style": "light"
          },
          "paper_bgcolor": "white",
          "plot_bgcolor": "#E5ECF6",
          "polar": {
           "angularaxis": {
            "gridcolor": "white",
            "linecolor": "white",
            "ticks": ""
           },
           "bgcolor": "#E5ECF6",
           "radialaxis": {
            "gridcolor": "white",
            "linecolor": "white",
            "ticks": ""
           }
          },
          "scene": {
           "xaxis": {
            "backgroundcolor": "#E5ECF6",
            "gridcolor": "white",
            "gridwidth": 2,
            "linecolor": "white",
            "showbackground": true,
            "ticks": "",
            "zerolinecolor": "white"
           },
           "yaxis": {
            "backgroundcolor": "#E5ECF6",
            "gridcolor": "white",
            "gridwidth": 2,
            "linecolor": "white",
            "showbackground": true,
            "ticks": "",
            "zerolinecolor": "white"
           },
           "zaxis": {
            "backgroundcolor": "#E5ECF6",
            "gridcolor": "white",
            "gridwidth": 2,
            "linecolor": "white",
            "showbackground": true,
            "ticks": "",
            "zerolinecolor": "white"
           }
          },
          "shapedefaults": {
           "line": {
            "color": "#2a3f5f"
           }
          },
          "ternary": {
           "aaxis": {
            "gridcolor": "white",
            "linecolor": "white",
            "ticks": ""
           },
           "baxis": {
            "gridcolor": "white",
            "linecolor": "white",
            "ticks": ""
           },
           "bgcolor": "#E5ECF6",
           "caxis": {
            "gridcolor": "white",
            "linecolor": "white",
            "ticks": ""
           }
          },
          "title": {
           "x": 0.05
          },
          "xaxis": {
           "automargin": true,
           "gridcolor": "white",
           "linecolor": "white",
           "ticks": "",
           "title": {
            "standoff": 15
           },
           "zerolinecolor": "white",
           "zerolinewidth": 2
          },
          "yaxis": {
           "automargin": true,
           "gridcolor": "white",
           "linecolor": "white",
           "ticks": "",
           "title": {
            "standoff": 15
           },
           "zerolinecolor": "white",
           "zerolinewidth": 2
          }
         }
        },
        "title": {
         "font": {
          "color": "black",
          "size": 18
         },
         "text": "Top 30 Occupations by Percentage of Total Population and its national wage by PUMA in the USA ",
         "x": 0.5
        },
        "width": 1000
       }
      }
     },
     "metadata": {},
     "output_type": "display_data"
    }
   ],
   "source": [
    "import plotly.express as px\n",
    "\n",
    "total_population_universe = df_LD['total_population'].sum()\n",
    "occupation_population = df_LD.groupby('occupation_name').agg(\n",
    "    total_population=('total_population', 'sum'),\n",
    "    average_wage=('average_wage', 'mean')  # Agregar el cálculo de salario promedio\n",
    ").reset_index()\n",
    "\n",
    "top_30_occupations = occupation_population.sort_values(by='total_population', ascending=False).head(30)\n",
    "top_30_occupations['population_percentage'] = (top_30_occupations['total_population'] / total_population_universe) * 100\n",
    "top_30_occupations['occupation_name'] = top_30_occupations['occupation_name'].apply(\n",
    "    lambda x: '<br>'.join(x.split()) if len(x) > 15 else x\n",
    ")\n",
    "\n",
    "# Crear el treemap con salario promedio agregado al texto\n",
    "fig = px.treemap(\n",
    "    top_30_occupations,\n",
    "    path=['occupation_name'],\n",
    "    values='total_population',\n",
    "    color='population_percentage', \n",
    "    color_continuous_scale='Inferno_r',  # Paleta de colores invertida\n",
    "    title='Top 30 Occupations by Percentage of Total Population and its national wage by PUMA in the USA ',\n",
    "    hover_data={'population_percentage': ':.2f', 'average_wage': ':.2f'}\n",
    ")\n",
    "fig.data[0].texttemplate = \"%{label}<br>%{value:,.0f} (%{customdata[0]:.2f}%)<br>Avg Wage: $%{customdata[1]:,.2f}\"\n",
    "fig.data[0].textfont.size = 12\n",
    "fig.update_layout(\n",
    "    width=1000,\n",
    "    height=700,\n",
    "    title_font=dict(size=18, color=\"black\"),\n",
    "    title_x=0.5,\n",
    "    margin=dict(t=45, l=25, r=25, b=25),\n",
    "    font=dict(size=20),  \n",
    "    coloraxis_colorbar=dict(\n",
    "        title=\"Population %\",\n",
    "        tickformat=\".2f\"\n",
    "    )\n",
    ")\n",
    "fig.show()\n"
   ]
  },
  {
   "cell_type": "markdown",
   "metadata": {},
   "source": [
    "This chart is a treemap displaying the top 30 occupations by percentage of the total population, enriched with the average wage calculated directly by PUMA information for each occupation. Each rectangle represents an occupation, with its size determined by the total number of people in that occupation, and its color indicating its percentage of the total population.\n",
    "\n",
    "Dominant Occupations: Occupations with the largest workforce are represented by the largest rectangles.\n",
    "Wage Comparisons: The average wages associated with each occupation reveal the income distribution within the most representative occupations.\n"
   ]
  }
 ],
 "metadata": {
  "kernelspec": {
   "display_name": "Python 3",
   "language": "python",
   "name": "python3"
  },
  "language_info": {
   "codemirror_mode": {
    "name": "ipython",
    "version": 3
   },
   "file_extension": ".py",
   "mimetype": "text/x-python",
   "name": "python",
   "nbconvert_exporter": "python",
   "pygments_lexer": "ipython3",
   "version": "3.9.13"
  }
 },
 "nbformat": 4,
 "nbformat_minor": 2
}
